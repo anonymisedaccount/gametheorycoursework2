{
  "nbformat": 4,
  "nbformat_minor": 0,
  "metadata": {
    "colab": {
      "provenance": [],
      "authorship_tag": "ABX9TyOaS1Ce/E7mDhAu3EYkwLbB",
      "include_colab_link": true
    },
    "kernelspec": {
      "name": "python3",
      "display_name": "Python 3"
    },
    "language_info": {
      "name": "python"
    }
  },
  "cells": [
    {
      "cell_type": "markdown",
      "metadata": {
        "id": "view-in-github",
        "colab_type": "text"
      },
      "source": [
        "<a href=\"https://colab.research.google.com/github/anonymisedaccount/gametheorycoursework2/blob/main/ReadabilityCalculations.ipynb\" target=\"_parent\"><img src=\"https://colab.research.google.com/assets/colab-badge.svg\" alt=\"Open In Colab\"/></a>"
      ]
    },
    {
      "cell_type": "code",
      "execution_count": null,
      "metadata": {
        "id": "HmrUz35PPT-M"
      },
      "outputs": [],
      "source": [
        "#import relevant library\n",
        "import re\n",
        "\n",
        "#define the readability function\n",
        "def readability(text):\n",
        "\n",
        "    #split up individual words\n",
        "    words=text.split()\n",
        "\n",
        "    #splits sentence according to punctuation\n",
        "    sentences=re.split(r'[.!?]', text)\n",
        "\n",
        "    #creates clean list of words\n",
        "    clean=re.findall(r'\\w+', text)\n",
        "\n",
        "    #define function to count syllables in each word\n",
        "    def syllablecounter(word):\n",
        "        word=word.lower()\n",
        "        syllables=re.findall(r'[aeiouy]+',word)\n",
        "        return max(1, len(syllables))\n",
        "\n",
        "    #find total syllable count in clean list\n",
        "    syllablecount=sum(syllablecounter(word) for word in clean)\n",
        "\n",
        "    #find total word count in clean list\n",
        "    wordcount = len(clean)\n",
        "\n",
        "    #find total sentence count without considering empty sentences\n",
        "    sentencecount = len([s for s in sentences if s.strip()])\n",
        "\n",
        "\n",
        "    #apply formula to calculate Flesch Readability score, see references below for how this formula has been obtained\n",
        "    if wordcount > 0 and sentencecount > 0:\n",
        "        fleschscore = 206.835 - 1.015 * (wordcount/sentencecount)-84.6*(syllablecount/wordcount)\n",
        "    else:\n",
        "        fleschscore = 0\n",
        "\n",
        "    #return Flesch Readability scores\n",
        "    return {\n",
        "        \"Flesch Readability\": round(fleschscore, 1)\n",
        "    }"
      ]
    },
    {
      "cell_type": "markdown",
      "source": [
        "N.B. The formula for the Flesch Readability Score is derived from the research of Flesch (1948) in *A New Readability Yardstick*"
      ],
      "metadata": {
        "id": "UT6bjvxiB9Es"
      }
    },
    {
      "cell_type": "code",
      "source": [
        "#input text\n",
        "text = \"\"\"\n",
        "In fact, Descartes anticipates objections that appeal to qualities like solidity or texture in Meditations II, particularly through the wax example. He observes that the wax, when placed near a flame, loses all of its sensory properties — its hardness, shape, even its sound — and yet remains recognisably the same substance. What remains constant, he argues, is its capacity to be extended, figured, and moved. This suggests that extension, unlike solidity, survives changes in external form. For Descartes, this is evidence that extension is grasped not through the senses but by the intellect alone. Therefore, he could respond to the solidity objection by arguing that resistance or impenetrability are contingent, whereas extension is essential. As such, the essence of body lies not in how it feels or behaves, but in its fundamental dimensionality — which alone persists through change.\n",
        "\"\"\"\n",
        "#return results\n",
        "results=readability(text)\n",
        "print(results)"
      ],
      "metadata": {
        "colab": {
          "base_uri": "https://localhost:8080/"
        },
        "id": "XozfNjBPPgRB",
        "outputId": "106be180-c547-4ea8-aa01-8b25a841e1d1"
      },
      "execution_count": null,
      "outputs": [
        {
          "output_type": "stream",
          "name": "stdout",
          "text": [
            "{'Flesch Readability': 23.9}\n"
          ]
        }
      ]
    }
  ]
}